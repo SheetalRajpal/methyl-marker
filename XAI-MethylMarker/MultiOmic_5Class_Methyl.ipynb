{
  "nbformat": 4,
  "nbformat_minor": 0,
  "metadata": {
    "accelerator": "GPU",
    "colab": {
      "provenance": [],
      "machine_shape": "hm"
    },
    "kernelspec": {
      "display_name": "Python 3",
      "name": "python3"
    },
    "language_info": {
      "name": "python"
    }
  },
  "cells": [
    {
      "cell_type": "markdown",
      "metadata": {
        "id": "BsNgk3T9wq7g"
      },
      "source": [
        "### **Drive Connection**"
      ]
    },
    {
      "cell_type": "code",
      "source": [
        "!pip install keras==2.9"
      ],
      "metadata": {
        "id": "Qd4tV212jVjl"
      },
      "execution_count": null,
      "outputs": []
    },
    {
      "cell_type": "code",
      "source": [
        "genes_52 = ['CFH',\n",
        " 'RHBDL1',\n",
        " 'OR51B2',\n",
        " 'OR10G9',\n",
        " 'MIR592',\n",
        " 'OR5B17',\n",
        " 'DEF6',\n",
        " 'ZNF671',\n",
        " 'FLACC1',\n",
        " 'GBP4',\n",
        " 'FBXO47',\n",
        " 'SERPINA3',\n",
        " 'OR8D4',\n",
        " 'DGKB',\n",
        " 'SYNGR2',\n",
        " 'CHAD',\n",
        " 'VTRNA1-2',\n",
        " 'OR8J3',\n",
        " 'AGR3',\n",
        " 'RP11-12M5.1',\n",
        " 'RPL13AP',\n",
        " 'ARHGAP40',\n",
        " 'RP4-761J14.9',\n",
        " 'AC073508.1',\n",
        " 'AOX1',\n",
        " 'PTPRQ',\n",
        " 'CYP2F1',\n",
        " 'PPP2R3A',\n",
        " 'CARD6',\n",
        " 'CTD-2370N5.3',\n",
        " 'EMBP1',\n",
        " 'SNORD32B',\n",
        " 'RP11-344P13.6',\n",
        " 'FJX1',\n",
        " 'OR2T4',\n",
        " 'FMOD',\n",
        " 'MT1DP',\n",
        " 'ARHGDIB',\n",
        " 'RP11-159D12.2',\n",
        " 'MESTIT1_1',\n",
        " 'PRELP',\n",
        " 'OR51B6',\n",
        " 'SLC2A5',\n",
        " 'OR10S1',\n",
        " 'CTD-2298J14.2',\n",
        " 'SYNPR-AS1',\n",
        " 'TUSC7',\n",
        " 'KLK3',\n",
        " 'TXLNB',\n",
        " 'IFI27',\n",
        " 'MNDA',\n",
        " 'KRTAP19-1']"
      ],
      "metadata": {
        "id": "GoQO0EeUdUbV"
      },
      "execution_count": null,
      "outputs": []
    },
    {
      "cell_type": "code",
      "metadata": {
        "id": "s0gpb6-5SBPA"
      },
      "source": [
        "gpu_info = !nvidia-smi\n",
        "gpu_info = '\\n'.join(gpu_info)\n",
        "if gpu_info.find('failed') >= 0:\n",
        "  print('Not connected to a GPU')\n",
        "else:\n",
        "  print(gpu_info)"
      ],
      "execution_count": null,
      "outputs": []
    },
    {
      "cell_type": "code",
      "metadata": {
        "id": "jTJ9ahdpwjiE"
      },
      "source": [
        "from google.colab import drive\n",
        "drive.mount('/content/drive/')\n",
        "import os\n",
        "os.chdir('/content/drive/My Drive/TCGA Multiomic')"
      ],
      "execution_count": null,
      "outputs": []
    },
    {
      "cell_type": "markdown",
      "metadata": {
        "id": "4JYh0xLOyVOs"
      },
      "source": [
        "### **Libraries**"
      ]
    },
    {
      "cell_type": "code",
      "metadata": {
        "id": "N-QIBllKygXZ"
      },
      "source": [
        "# Load the TensorBoard notebook extension\n",
        "#%load_ext tensorboard\n",
        "#%tensorflow_version 1.14\n",
        "#!pip uninstall -y keras-nightly\n",
        "#!pip install h5py==2.10.0\n",
        "#!pip install keras==2.2.5 \n",
        "#pip install keras==2.2.5 "
      ],
      "execution_count": null,
      "outputs": []
    },
    {
      "cell_type": "code",
      "metadata": {
        "id": "gnEcmXltxWYX"
      },
      "source": [
        "%matplotlib inline  \n",
        "\n",
        "import imp\n",
        "import numpy as np\n",
        "import os\n",
        "import pandas as pd\n",
        "#import tensorflow as tf\n",
        "from sklearn.preprocessing import LabelEncoder\n",
        "from sklearn.preprocessing import OneHotEncoder\n",
        "from sklearn.model_selection import train_test_split\n",
        "from imblearn.over_sampling import SMOTE\n",
        "from keras.models import Model,Sequential\n",
        "from keras.layers import Input,Dense,Dropout, concatenate, ReLU, LeakyReLU, Lambda\n",
        "from keras.optimizers import Adam, SGD, Adadelta\n",
        "import matplotlib.pyplot as plt\n",
        "from sklearn.preprocessing import StandardScaler\n",
        "from sklearn.preprocessing import MinMaxScaler\n",
        "from sklearn.metrics import confusion_matrix\n",
        "from keras.callbacks import EarlyStopping, ModelCheckpoint\n",
        "from sklearn.model_selection import GridSearchCV\n",
        "from keras.wrappers.scikit_learn import KerasClassifier\n",
        "from keras.callbacks import TensorBoard\n",
        "#from sklearn.externals import joblib\n"
      ],
      "execution_count": null,
      "outputs": []
    },
    {
      "cell_type": "markdown",
      "metadata": {
        "id": "L0zknjCa2H3j"
      },
      "source": [
        "### **Reading RNA Seq Dataset**"
      ]
    },
    {
      "cell_type": "code",
      "metadata": {
        "id": "Htc4UaRP2OIq"
      },
      "source": [
        "dfRNA = pd.read_csv('https://tcga-xena-hub.s3.us-east-1.amazonaws.com/download/TCGA.BRCA.sampleMap%2FHiSeqV2.gz',compression='gzip',sep='\\t',index_col=0)\n",
        "dfRNA = dfRNA.reindex(sorted(dfRNA.columns), axis=1)\n",
        "dfRNA=dfRNA.T\n",
        "RNAcols = dfRNA.columns"
      ],
      "execution_count": null,
      "outputs": []
    },
    {
      "cell_type": "code",
      "metadata": {
        "id": "Omvlr8TuyZIf"
      },
      "source": [
        "print(\"RNA Matrix Before:\", dfRNA.shape)\n",
        "dfRNA.head(2) "
      ],
      "execution_count": null,
      "outputs": []
    },
    {
      "cell_type": "markdown",
      "metadata": {
        "id": "nLifFaN22O4W"
      },
      "source": [
        "### **Reading CNV Dataset**"
      ]
    },
    {
      "cell_type": "code",
      "metadata": {
        "id": "WdXvO6-h2Zzs"
      },
      "source": [
        "dfCNV = pd.read_csv('/content/drive/My Drive/CNV/dataset/TCGA_BRCA_CNV.gz',compression='gzip',sep='\\t',index_col=0)\n",
        "dfCNV = dfCNV.reindex(sorted(dfCNV.columns), axis=1)\n",
        "dfCNV = dfCNV.T\n",
        "CNVcols = dfCNV.columns"
      ],
      "execution_count": null,
      "outputs": []
    },
    {
      "cell_type": "code",
      "metadata": {
        "id": "LlYH6AVy2ajL"
      },
      "source": [
        "print(\"CNV Matrix Before:\", dfCNV.shape)\n",
        "dfCNV.head(2)"
      ],
      "execution_count": null,
      "outputs": []
    },
    {
      "cell_type": "markdown",
      "metadata": {
        "id": "2WHthHON2bDa"
      },
      "source": [
        "## **Reading Methylation Dataset**"
      ]
    },
    {
      "cell_type": "code",
      "metadata": {
        "id": "tdvkSwY32fiz"
      },
      "source": [
        "dfMethyl = pd.read_csv('/content/drive/My Drive/methylation/dataset/genelevelMethyl.csv', index_col=0)\n",
        "dfMethyl = dfMethyl.reindex(sorted(dfMethyl.columns), axis=1)\n",
        "dfMethyl = dfMethyl.T\n",
        "METHYLcols = dfMethyl.columns"
      ],
      "execution_count": null,
      "outputs": []
    },
    {
      "cell_type": "code",
      "metadata": {
        "id": "2ONaJtEaZytp"
      },
      "source": [
        "dfMethyl.index = dfMethyl.index.str.replace('.', '-')"
      ],
      "execution_count": null,
      "outputs": []
    },
    {
      "cell_type": "markdown",
      "metadata": {
        "id": "TtjcF1HKg999"
      },
      "source": [
        "#### **ALL COMMON INDEXES**"
      ]
    },
    {
      "cell_type": "code",
      "metadata": {
        "id": "MUK7l7MNhHuI"
      },
      "source": [
        "\"\"\"commonIndexesAll = list(set.intersection(set(dfMethyl.index), set(dfCNV.index), set(dfRNA.index)))\n",
        "print(len(commonIndexesAll))\n",
        "dfRNA = dfRNA.loc[commonIndexesAll]\n",
        "dfCNV = dfCNV.loc[commonIndexesAll]\n",
        "dfMethyl = dfMethyl.loc[commonIndexesAll]\n",
        "\"\"\""
      ],
      "execution_count": null,
      "outputs": []
    },
    {
      "cell_type": "markdown",
      "metadata": {
        "id": "1dWd8tHT7q1a"
      },
      "source": [
        "### **Reading Clinical Data for which PAM50 labels are available**"
      ]
    },
    {
      "cell_type": "code",
      "metadata": {
        "id": "4t0LnyXH7qH2"
      },
      "source": [
        "#dfPAM50=pd.read_csv('https://tcga-xena-hub.s3.us-east-1.amazonaws.com/download/TCGA.BRCA.sampleMap%2FBRCA_clinicalMatrix',sep=\"\\t\",index_col=0)\n",
        "dfPAM50=pd.read_csv('/content/drive/My Drive/CNV/dataset/BRCA_clinicalMatrix.gz',compression='gzip',sep='\\t',index_col=0)\n",
        "print(\"Clinical Data Before:\", dfPAM50.shape)\n",
        "dfPAM50=dfPAM50['PAM50Call_RNAseq']\n",
        "dfPAM50=dfPAM50[dfPAM50.isna()==False]"
      ],
      "execution_count": null,
      "outputs": []
    },
    {
      "cell_type": "markdown",
      "metadata": {
        "id": "4mbUST__-HuT"
      },
      "source": [
        "### **Finding Common Indexes**"
      ]
    },
    {
      "cell_type": "code",
      "metadata": {
        "id": "qqn0B2ZM9V6J"
      },
      "source": [
        "commonIndexes = np.sort(list( set.intersection(set(dfPAM50.index),set(dfMethyl.index), set(dfCNV.index))  ))\n",
        "len(commonIndexes)"
      ],
      "execution_count": null,
      "outputs": []
    },
    {
      "cell_type": "code",
      "metadata": {
        "id": "Ng8YY6pUZD2L"
      },
      "source": [
        "dfPAM50 = dfPAM50.loc[commonIndexes]\n",
        "dfMethyl50 = dfMethyl.loc[commonIndexes]\n",
        "dfCNV50 = dfCNV.loc[commonIndexes]\n",
        "dfRNA50 = dfRNA.loc[commonIndexes]\n",
        "dfPAM50.value_counts()"
      ],
      "execution_count": null,
      "outputs": []
    },
    {
      "cell_type": "markdown",
      "metadata": {
        "id": "efUdnTqf_WqC"
      },
      "source": [
        "### **Garbage Collection and creation of numpy arrays**"
      ]
    },
    {
      "cell_type": "code",
      "metadata": {
        "id": "p9GV_-Q0_cmC"
      },
      "source": [
        "YPAM50=dfPAM50.values"
      ],
      "execution_count": null,
      "outputs": []
    },
    {
      "cell_type": "code",
      "metadata": {
        "id": "GWU8P2IcGMws"
      },
      "source": [
        "#>>>>>>>>>>>>>>>>>>>>>>>>>>>>>>>>>>>>>> CLEANING UP MEMORY SPACE <<<<<<<<<<<<<<<<<<<<<<<<<<<<\n",
        "#del dfPAM50; del dfRNA; del dfMethyl; del dfCNV; del dfRNA50; del dfCNV50; del dfMethyl50; del dfRNAEx; del dfCNVEx; del dfMethylEx; \n",
        "import gc\n",
        "gc.collect()"
      ],
      "execution_count": null,
      "outputs": []
    },
    {
      "cell_type": "code",
      "metadata": {
        "id": "ehcUN_ieAi9k"
      },
      "source": [
        "label_encoder=LabelEncoder()\n",
        "YPAM50=label_encoder.fit_transform(YPAM50)\n",
        "le_name_mapping = dict(zip(label_encoder.classes_, label_encoder.transform(label_encoder.classes_)))\n",
        "print(le_name_mapping)\n",
        "from collections import Counter\n",
        "print(Counter(YPAM50))"
      ],
      "execution_count": null,
      "outputs": []
    },
    {
      "cell_type": "code",
      "source": [
        "Y = YPAM50.reshape(-1, 1)\n",
        "Y.shape"
      ],
      "metadata": {
        "id": "ffrzhnIi2QH3"
      },
      "execution_count": null,
      "outputs": []
    },
    {
      "cell_type": "code",
      "source": [
        "rna_genes = genes_52"
      ],
      "metadata": {
        "id": "eFQMDI4aToSC"
      },
      "execution_count": null,
      "outputs": []
    },
    {
      "cell_type": "code",
      "source": [
        "cnv_genes = genes_52\n"
      ],
      "metadata": {
        "id": "XXky2tqCTs9a"
      },
      "execution_count": null,
      "outputs": []
    },
    {
      "cell_type": "code",
      "source": [
        "methyl_genes = genes_52"
      ],
      "metadata": {
        "id": "pHhddYX8Tv-V"
      },
      "execution_count": null,
      "outputs": []
    },
    {
      "cell_type": "code",
      "source": [
        "\n",
        "XRNA = dfRNA50[list(set(rna_genes)-set(\n",
        "    ['RPL13AP', 'ARHGAP40', 'FLACC1', 'MESTIT1_1', 'CTD-2298J14.2', 'TUSC7', 'RP11-159D12.2',\n",
        "     'RP11-12M5.1', 'CTD-2370N5.3', 'AC073508.1', 'RP11-344P13.6', 'MIR592', 'SYNPR-AS1', 'RP4-761J14.9', 'EMBP1']))]\n",
        "\n",
        "XCNV = dfCNV50[list(set(cnv_genes) - set(\n",
        "    ['RPL13AP', 'FLACC1', 'MESTIT1_1', 'KRTAP19-1', 'CTD-2298J14.2', 'RP11-159D12.2', 'RP11-12M5.1',\n",
        "     'CTD-2370N5.3', 'AC073508.1', 'RP11-344P13.6', 'SYNPR-AS1', 'RP4-761J14.9', 'VTRNA1-2', 'EMBP1']))]\n",
        "\n",
        "XMethyl = dfMethyl50[list(set(methyl_genes))]"
      ],
      "metadata": {
        "id": "lZklJdyKObXF"
      },
      "execution_count": null,
      "outputs": []
    },
    {
      "cell_type": "code",
      "source": [
        "XCNV.shape,  XMethyl.shape, XRNA.shape "
      ],
      "metadata": {
        "id": "mqiS-uiS5rNy"
      },
      "execution_count": null,
      "outputs": []
    },
    {
      "cell_type": "code",
      "source": [
        "X = np.array(np.concatenate((XCNV, XMethyl, XRNA), axis=1))\n",
        "\n",
        "X.shape"
      ],
      "metadata": {
        "id": "PT_lIkBITUbp"
      },
      "execution_count": null,
      "outputs": []
    },
    {
      "cell_type": "code",
      "source": [
        "gc.collect()"
      ],
      "metadata": {
        "id": "qNKtnTkB2FOF"
      },
      "execution_count": null,
      "outputs": []
    },
    {
      "cell_type": "code",
      "source": [
        "from keras.layers import Softmax\n"
      ],
      "metadata": {
        "id": "9eIls2wpffq3"
      },
      "execution_count": null,
      "outputs": []
    },
    {
      "cell_type": "code",
      "source": [
        "from sklearn.model_selection import StratifiedKFold\n",
        "from sklearn.metrics import accuracy_score\n",
        "\n",
        "for seed in [0,1,2,3,4,55,666,7777,88888,999999]:\n",
        "  total = 0\n",
        "  i = 0\n",
        "  n_splits = 5\n",
        "  skf = StratifiedKFold(n_splits=n_splits, shuffle=True, random_state=seed)\n",
        "\n",
        "  np.random.seed(seed)\n",
        "  input = Input(shape=(X.shape[1],))\n",
        "  hidden1 = Dense(40, activation='relu')(input)\n",
        "  dropout1 = Dropout(0.3, seed=seed)(hidden1)\n",
        "  hidden2 = Dense(10, activation='relu')(dropout1)\n",
        "  dropout2 = Dropout(0.3, seed=seed)(hidden2)\n",
        "  hidden3 = Dense(5, activation=None)(dropout2)\n",
        "  softmax = Softmax()(hidden3)\n",
        "  #classifier = Model(inputs=input, outputs=softmax)\n",
        "  \n",
        "  adam=Adam(learning_rate=0.002)\n",
        "  \n",
        "  for train_idx, test_idx in skf.split(X, Y):\n",
        "    X_train = X[train_idx]\n",
        "    Y_train = Y[train_idx]\n",
        "    X_test = X[test_idx]\n",
        "    Y_test = Y[test_idx]\n",
        "    \n",
        "    sm=SMOTE(random_state=seed)\n",
        "    X_train_res,Y_train_res=sm.fit_resample(X_train,Y_train)\n",
        "    \n",
        "    classifier = Model(inputs=input, outputs=softmax)\n",
        "    classifier.compile(optimizer=adam, loss='sparse_categorical_crossentropy',metrics=['accuracy'])\n",
        "    classifier.fit(X_train_res, Y_train_res, epochs=100, batch_size=16, verbose=0)\n",
        "    y_pred = classifier.predict(X_test)\n",
        "    total += accuracy_score(Y_test, y_pred.argmax(axis=-1))\n",
        "    i += 1\n",
        "  print(f'5 fold Accuracy for seed {seed}: ', total/5)"
      ],
      "metadata": {
        "id": "qp2ugqbfjtbB"
      },
      "execution_count": null,
      "outputs": []
    },
    {
      "cell_type": "code",
      "source": [
        "gc.collect()"
      ],
      "metadata": {
        "id": "S0vCUYfCJeLE"
      },
      "execution_count": null,
      "outputs": []
    },
    {
      "cell_type": "code",
      "source": [],
      "metadata": {
        "id": "waxEngB3HnNx"
      },
      "execution_count": null,
      "outputs": []
    }
  ]
}